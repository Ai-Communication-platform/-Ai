{
 "cells": [
  {
   "cell_type": "code",
   "execution_count": null,
   "id": "4db4cb8a-3ab1-4f3c-9f8d-f15e4083190f",
   "metadata": {},
   "outputs": [],
   "source": [
    "import pandas as pd\n",
    "from collections import defaultdict\n",
    "import matplotlib.pyplot as plt\n",
    "import networkx as nx\n",
    "import matplotlib as mpl\n",
    "\n",
    "# Update matplotlib's settings to use a font that supports Korean\n",
    "mpl.rcParams['font.family'] = 'NanumGothic'\n",
    "\n",
    "print(\"Matplotlib Version:\", mpl.__version__)\n",
    "print(\"Matplotlib Installation Directory:\", mpl.__file__)\n",
    "print(\"Matplotlib Configuration Directory:\", mpl.get_configdir())\n",
    "print(\"Matplotlib Cache Directory:\", mpl.get_cachedir())\n",
    "\n",
    "# Load the dataset\n",
    "file_path = 'C:\\\\Users\\\\win\\Documents\\\\GitHub\\\\-Ai\\\\감성대화말뭉치(최종데이터)_Training.csv'\n",
    "data = pd.read_csv(file_path, encoding='utf-8')\n",
    "# Using dtypes to get the data type of each column\n",
    "print(\"Data types of each column:\")\n",
    "print(data.dtypes)\n",
    "\n",
    "# Using info() to get a summary including data types\n",
    "print(\"\\nDataFrame Summary:\")\n",
    "data.info()\n",
    "\n",
    "# Extracting the relevant columns\n",
    "emotion_major = data['감정_대분류']\n",
    "emotion_subcategory = data['감정_소분류']\n",
    "\n",
    "# Creating a dictionary to map major emotion categories to their subcategories\n",
    "emotion_tree = defaultdict(set)\n",
    "for major, sub in zip(emotion_major, emotion_subcategory):\n",
    "    emotion_tree[major].add(sub)\n",
    "\n",
    "# Creating a network graph from the tree structure\n",
    "G = nx.DiGraph()\n",
    "for major in emotion_tree:\n",
    "    G.add_node(major)\n",
    "    for sub in emotion_tree[major]:\n",
    "        G.add_node(sub)\n",
    "        G.add_edge(major, sub)\n",
    "\n",
    "# Plotting the tree\n",
    "plt.figure(figsize=(15, 10))\n",
    "pos = nx.spring_layout(G)  # positions for all nodes\n",
    "nx.draw(G, pos, with_labels=True, node_size=2000, node_color=\"skyblue\", font_size=10)\n",
    "plt.title(\"Tree Structure of Emotion Categories\")\n",
    "plt.show()"
   ]
  }
 ],
 "metadata": {
  "kernelspec": {
   "display_name": "Python 3 (ipykernel)",
   "language": "python",
   "name": "python3"
  },
  "language_info": {
   "codemirror_mode": {
    "name": "ipython",
    "version": 3
   },
   "file_extension": ".py",
   "mimetype": "text/x-python",
   "name": "python",
   "nbconvert_exporter": "python",
   "pygments_lexer": "ipython3",
   "version": "3.11.5"
  }
 },
 "nbformat": 4,
 "nbformat_minor": 5
}
